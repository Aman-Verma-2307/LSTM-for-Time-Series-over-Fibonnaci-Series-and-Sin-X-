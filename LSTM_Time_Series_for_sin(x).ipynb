{
  "nbformat": 4,
  "nbformat_minor": 0,
  "metadata": {
    "colab": {
      "name": "LSTM Time Series for sin(x).ipynb",
      "provenance": [],
      "collapsed_sections": []
    },
    "kernelspec": {
      "name": "python3",
      "display_name": "Python 3"
    }
  },
  "cells": [
    {
      "cell_type": "code",
      "metadata": {
        "id": "BuRAJBGkffw2",
        "colab_type": "code",
        "colab": {}
      },
      "source": [
        "### Importing Libraries \n",
        "\n",
        "# Basic Libraries\n",
        "\n",
        "import numpy as np\n",
        "import pandas as pd\n",
        "import matplotlib.pyplot as plt\n",
        "import math\n",
        "import sys\n",
        "import os"
      ],
      "execution_count": 0,
      "outputs": []
    },
    {
      "cell_type": "code",
      "metadata": {
        "id": "qNVa6yX3gEja",
        "colab_type": "code",
        "colab": {
          "base_uri": "https://localhost:8080/",
          "height": 282
        },
        "outputId": "703fa97c-50d4-406d-ef9d-f83cee6f9a27"
      },
      "source": [
        "### Sampling Raw Data\n",
        "\n",
        "x_raw = np.arange(2*(-3.14),2*(3.14),0.0001)\n",
        "y_raw = np.sin(x_raw)\n",
        "\n",
        "plt.plot(x_raw,y_raw)"
      ],
      "execution_count": 33,
      "outputs": [
        {
          "output_type": "execute_result",
          "data": {
            "text/plain": [
              "[<matplotlib.lines.Line2D at 0x7f1f24b28a58>]"
            ]
          },
          "metadata": {
            "tags": []
          },
          "execution_count": 33
        },
        {
          "output_type": "display_data",
          "data": {
            "image/png": "[encoded data removed]",
            "text/plain": [
              "<Figure size 432x288 with 1 Axes>"
            ]
          },
          "metadata": {
            "tags": [],
            "needs_background": "light"
          }
        }
      ]
    },
    {
      "cell_type": "markdown",
      "metadata": {
        "id": "3DBOKx7jALGm",
        "colab_type": "text"
      },
      "source": [
        "**Time Series for X Prediction from X-1**"
      ]
    },
    {
      "cell_type": "code",
      "metadata": {
        "id": "RAVBRV6Blpic",
        "colab_type": "code",
        "colab": {
          "base_uri": "https://localhost:8080/",
          "height": 136
        },
        "outputId": "e6408792-f668-4d46-851f-350478d075be"
      },
      "source": [
        "### Generation of Data Set\n",
        "\n",
        "def Generate_Dataset_case_one(x_raw,y_raw):\n",
        "  \n",
        "  input_space = x_raw.shape[0]\n",
        "  \n",
        "  X = np.zeros((input_space-4,4))\n",
        "  Y = []\n",
        "  \n",
        "  for i in range(input_space-4):\n",
        "\n",
        "       for j in range(4):\n",
        "         X[i,j] = (x_raw[i+j])\n",
        "       Y.append(y_raw[i+4])\n",
        "  \n",
        "  Y = np.array(Y)\n",
        "  return(X,Y)\n",
        "\n",
        "# Generating the Dataset\n",
        "\n",
        "X,Y = Generate_Dataset_case_one(x_raw,y_raw)\n",
        "print(X,Y)"
      ],
      "execution_count": 73,
      "outputs": [
        {
          "output_type": "stream",
          "text": [
            "[[-6.28   -6.2799 -6.2798 -6.2797]\n",
            " [-6.2799 -6.2798 -6.2797 -6.2796]\n",
            " [-6.2798 -6.2797 -6.2796 -6.2795]\n",
            " ...\n",
            " [ 6.2793  6.2794  6.2795  6.2796]\n",
            " [ 6.2794  6.2795  6.2796  6.2797]\n",
            " [ 6.2795  6.2796  6.2797  6.2798]] [ 0.0035853  0.0036853  0.0037853 ... -0.0034853 -0.0033853 -0.0032853]\n"
          ],
          "name": "stdout"
        }
      ]
    },
    {
      "cell_type": "code",
      "metadata": {
        "id": "5Su8JVVYzy1B",
        "colab_type": "code",
        "colab": {}
      },
      "source": [
        "#### Importing Keras Library\n",
        "\n",
        "from keras import layers\n",
        "from keras import Model\n",
        "import keras.backend as K\n",
        "from keras.models import Sequential\n",
        "from keras.layers import LSTM\n",
        "from keras.layers import Dense"
      ],
      "execution_count": 0,
      "outputs": []
    },
    {
      "cell_type": "code",
      "metadata": {
        "id": "mOGurTaA49Xo",
        "colab_type": "code",
        "colab": {
          "base_uri": "https://localhost:8080/",
          "height": 34
        },
        "outputId": "75959270-80d7-457c-e675-d63c0abb1e75"
      },
      "source": [
        "### Defining Variables and Reshaping X\n",
        "\n",
        "n_features = 1\n",
        "X = X.reshape((X.shape[0],X.shape[1],n_features))\n",
        "print(X.shape)"
      ],
      "execution_count": 75,
      "outputs": [
        {
          "output_type": "stream",
          "text": [
            "(125596, 4, 1)\n"
          ],
          "name": "stdout"
        }
      ]
    },
    {
      "cell_type": "code",
      "metadata": {
        "id": "GRoRjLA42H7b",
        "colab_type": "code",
        "colab": {}
      },
      "source": [
        "### Developing the Model\n",
        "\n",
        "model = Sequential()\n",
        "model.add(LSTM(50,input_shape=(X.shape[1],n_features)))\n",
        "model.add(Dense(1))\n",
        "model.compile(optimizer='adam',loss='mse',metrics=['accuracy'])"
      ],
      "execution_count": 0,
      "outputs": []
    },
    {
      "cell_type": "code",
      "metadata": {
        "id": "SBoE1_PD743b",
        "colab_type": "code",
        "colab": {
          "base_uri": "https://localhost:8080/",
          "height": 1000
        },
        "outputId": "68689c71-83c7-4968-c1d4-393937ac3ba8"
      },
      "source": [
        "### Fitting Model\n",
        "\n",
        "model.fit(X,Y,epochs=200)"
      ],
      "execution_count": 0,
      "outputs": [
        {
          "output_type": "stream",
          "text": [
            "Epoch 1/200\n",
            "125596/125596 [==============================] - 13s 103us/step - loss: 0.0154 - accuracy: 1.5128e-04\n",
            "Epoch 2/200\n",
            "125596/125596 [==============================] - 13s 101us/step - loss: 6.9986e-05 - accuracy: 1.5924e-04\n",
            "Epoch 3/200\n",
            "125596/125596 [==============================] - 12s 99us/step - loss: 6.9428e-05 - accuracy: 1.5924e-04\n",
            "Epoch 4/200\n",
            "125596/125596 [==============================] - 12s 98us/step - loss: 7.6425e-05 - accuracy: 1.5924e-04\n",
            "Epoch 5/200\n",
            "125596/125596 [==============================] - 12s 98us/step - loss: 5.8949e-05 - accuracy: 1.5924e-04\n",
            "Epoch 6/200\n",
            "125596/125596 [==============================] - 12s 98us/step - loss: 7.0738e-05 - accuracy: 1.5924e-04\n",
            "Epoch 7/200\n",
            "125596/125596 [==============================] - 12s 99us/step - loss: 4.6329e-05 - accuracy: 1.5924e-04\n",
            "Epoch 8/200\n",
            "125596/125596 [==============================] - 12s 99us/step - loss: 9.1127e-05 - accuracy: 1.5924e-04\n",
            "Epoch 9/200\n",
            "125596/125596 [==============================] - 12s 98us/step - loss: 3.2171e-05 - accuracy: 1.5924e-04\n",
            "Epoch 10/200\n",
            "125596/125596 [==============================] - 12s 98us/step - loss: 5.1073e-05 - accuracy: 1.5924e-04\n",
            "Epoch 11/200\n",
            "125596/125596 [==============================] - 13s 100us/step - loss: 4.1344e-05 - accuracy: 1.5924e-04\n",
            "Epoch 12/200\n",
            "125596/125596 [==============================] - 12s 98us/step - loss: 4.3410e-05 - accuracy: 1.5924e-04\n",
            "Epoch 13/200\n",
            "125596/125596 [==============================] - 12s 99us/step - loss: 4.2795e-05 - accuracy: 1.5924e-04\n",
            "Epoch 14/200\n",
            "125596/125596 [==============================] - 12s 98us/step - loss: 4.4962e-05 - accuracy: 1.5924e-04\n",
            "Epoch 15/200\n",
            "125596/125596 [==============================] - 13s 101us/step - loss: 2.8955e-05 - accuracy: 1.5924e-04\n",
            "Epoch 16/200\n",
            "125596/125596 [==============================] - 12s 98us/step - loss: 3.2451e-05 - accuracy: 1.5924e-04\n",
            "Epoch 17/200\n",
            "125596/125596 [==============================] - 12s 98us/step - loss: 2.8225e-05 - accuracy: 1.5924e-04\n",
            "Epoch 18/200\n",
            "125596/125596 [==============================] - 12s 98us/step - loss: 2.8811e-05 - accuracy: 1.5924e-04\n",
            "Epoch 19/200\n",
            "125596/125596 [==============================] - 12s 98us/step - loss: 3.3890e-05 - accuracy: 1.5924e-04\n",
            "Epoch 20/200\n",
            "125596/125596 [==============================] - 12s 98us/step - loss: 2.4711e-05 - accuracy: 1.5924e-04\n",
            "Epoch 21/200\n",
            "125596/125596 [==============================] - 12s 98us/step - loss: 2.1830e-05 - accuracy: 1.5924e-04\n",
            "Epoch 22/200\n",
            "125596/125596 [==============================] - 12s 98us/step - loss: 2.2492e-05 - accuracy: 1.5924e-04\n",
            "Epoch 23/200\n",
            "125596/125596 [==============================] - 12s 98us/step - loss: 1.9198e-05 - accuracy: 1.5924e-04\n",
            "Epoch 24/200\n",
            "125596/125596 [==============================] - 12s 98us/step - loss: 1.6820e-05 - accuracy: 1.5924e-04\n",
            "Epoch 25/200\n",
            "125596/125596 [==============================] - 12s 98us/step - loss: 2.5310e-05 - accuracy: 1.5924e-04\n",
            "Epoch 26/200\n",
            "125596/125596 [==============================] - 12s 98us/step - loss: 2.2997e-05 - accuracy: 1.5924e-04\n",
            "Epoch 27/200\n",
            "125596/125596 [==============================] - 12s 98us/step - loss: 2.2400e-05 - accuracy: 1.5924e-04\n",
            "Epoch 28/200\n",
            "125596/125596 [==============================] - 12s 98us/step - loss: 2.6626e-05 - accuracy: 1.5924e-04\n",
            "Epoch 29/200\n",
            "125596/125596 [==============================] - 12s 98us/step - loss: 2.4836e-05 - accuracy: 1.5924e-04\n",
            "Epoch 30/200\n",
            "125596/125596 [==============================] - 12s 98us/step - loss: 2.0744e-05 - accuracy: 1.5924e-04\n",
            "Epoch 31/200\n",
            "125596/125596 [==============================] - 12s 98us/step - loss: 1.6282e-05 - accuracy: 1.5924e-04\n",
            "Epoch 32/200\n",
            "125596/125596 [==============================] - 12s 98us/step - loss: 1.7003e-05 - accuracy: 1.5924e-04\n",
            "Epoch 33/200\n",
            "125596/125596 [==============================] - 12s 99us/step - loss: 1.6880e-05 - accuracy: 1.5924e-04\n",
            "Epoch 34/200\n",
            "125596/125596 [==============================] - 12s 98us/step - loss: 1.4191e-05 - accuracy: 1.5924e-04\n",
            "Epoch 35/200\n",
            "125596/125596 [==============================] - 12s 99us/step - loss: 1.4595e-05 - accuracy: 1.5924e-04\n",
            "Epoch 36/200\n",
            "125596/125596 [==============================] - 13s 100us/step - loss: 2.2869e-05 - accuracy: 1.5924e-04\n",
            "Epoch 37/200\n",
            "125596/125596 [==============================] - 12s 99us/step - loss: 1.0616e-05 - accuracy: 1.5924e-04\n",
            "Epoch 38/200\n",
            "125596/125596 [==============================] - 12s 99us/step - loss: 2.7595e-05 - accuracy: 1.5924e-04\n",
            "Epoch 39/200\n",
            "125596/125596 [==============================] - 12s 99us/step - loss: 1.2556e-05 - accuracy: 1.5924e-04\n",
            "Epoch 40/200\n",
            "125596/125596 [==============================] - 13s 103us/step - loss: 1.2674e-05 - accuracy: 1.5924e-04\n",
            "Epoch 41/200\n",
            "125596/125596 [==============================] - 13s 100us/step - loss: 1.5003e-05 - accuracy: 1.5924e-04\n",
            "Epoch 42/200\n",
            "125596/125596 [==============================] - 13s 100us/step - loss: 1.4792e-05 - accuracy: 1.5924e-04\n",
            "Epoch 43/200\n",
            "125596/125596 [==============================] - 13s 100us/step - loss: 1.5206e-05 - accuracy: 1.5924e-04\n",
            "Epoch 44/200\n",
            "125596/125596 [==============================] - 12s 99us/step - loss: 1.2454e-05 - accuracy: 1.5924e-04\n",
            "Epoch 45/200\n",
            "125596/125596 [==============================] - 13s 100us/step - loss: 1.1530e-05 - accuracy: 1.5924e-04\n",
            "Epoch 46/200\n",
            "125596/125596 [==============================] - 12s 99us/step - loss: 1.3170e-05 - accuracy: 1.5924e-04\n",
            "Epoch 47/200\n",
            "125596/125596 [==============================] - 12s 99us/step - loss: 1.1704e-05 - accuracy: 1.5924e-04\n",
            "Epoch 48/200\n",
            "125596/125596 [==============================] - 12s 98us/step - loss: 1.0907e-05 - accuracy: 1.5924e-04\n",
            "Epoch 49/200\n",
            "125596/125596 [==============================] - 12s 99us/step - loss: 1.1512e-05 - accuracy: 1.5924e-04\n",
            "Epoch 50/200\n",
            "125596/125596 [==============================] - 12s 98us/step - loss: 1.4255e-05 - accuracy: 1.5924e-04\n",
            "Epoch 51/200\n",
            "125596/125596 [==============================] - 12s 99us/step - loss: 9.1697e-06 - accuracy: 1.5924e-04\n",
            "Epoch 52/200\n",
            "125596/125596 [==============================] - 12s 99us/step - loss: 1.3102e-05 - accuracy: 1.5924e-04\n",
            "Epoch 53/200\n",
            "125596/125596 [==============================] - 12s 98us/step - loss: 9.2117e-06 - accuracy: 1.5924e-04\n",
            "Epoch 54/200\n",
            "125596/125596 [==============================] - 12s 99us/step - loss: 1.3214e-05 - accuracy: 1.5924e-04\n",
            "Epoch 55/200\n",
            "125596/125596 [==============================] - 12s 98us/step - loss: 1.1927e-05 - accuracy: 1.5924e-04\n",
            "Epoch 56/200\n",
            "125596/125596 [==============================] - 12s 99us/step - loss: 8.3940e-06 - accuracy: 1.5924e-04\n",
            "Epoch 57/200\n",
            "125596/125596 [==============================] - 12s 98us/step - loss: 1.1795e-05 - accuracy: 1.5924e-04\n",
            "Epoch 58/200\n",
            "125596/125596 [==============================] - 12s 98us/step - loss: 7.3259e-06 - accuracy: 1.5924e-04\n",
            "Epoch 59/200\n",
            "125596/125596 [==============================] - 12s 99us/step - loss: 1.2495e-05 - accuracy: 1.5924e-04\n",
            "Epoch 60/200\n",
            "125596/125596 [==============================] - 12s 99us/step - loss: 1.0680e-05 - accuracy: 1.5924e-04\n",
            "Epoch 61/200\n",
            "125596/125596 [==============================] - 12s 98us/step - loss: 9.5532e-06 - accuracy: 1.5924e-04\n",
            "Epoch 62/200\n",
            "125596/125596 [==============================] - 12s 98us/step - loss: 8.4387e-06 - accuracy: 1.5924e-04\n",
            "Epoch 63/200\n",
            "125596/125596 [==============================] - 12s 98us/step - loss: 9.2299e-06 - accuracy: 1.5924e-04\n",
            "Epoch 64/200\n",
            "125596/125596 [==============================] - 12s 98us/step - loss: 1.0383e-05 - accuracy: 1.5924e-04\n",
            "Epoch 65/200\n",
            "125596/125596 [==============================] - 13s 101us/step - loss: 7.6791e-06 - accuracy: 1.5924e-04\n",
            "Epoch 66/200\n",
            "125596/125596 [==============================] - 12s 99us/step - loss: 1.0201e-05 - accuracy: 1.5924e-04\n",
            "Epoch 67/200\n",
            "125596/125596 [==============================] - 12s 98us/step - loss: 6.9600e-06 - accuracy: 1.5924e-04\n",
            "Epoch 68/200\n",
            "125596/125596 [==============================] - 12s 98us/step - loss: 7.5944e-06 - accuracy: 1.5924e-04\n",
            "Epoch 69/200\n",
            "125596/125596 [==============================] - 12s 98us/step - loss: 1.0000e-05 - accuracy: 1.5924e-04\n",
            "Epoch 70/200\n",
            "125596/125596 [==============================] - 12s 98us/step - loss: 8.9797e-06 - accuracy: 1.5924e-04\n",
            "Epoch 71/200\n",
            "125596/125596 [==============================] - 12s 98us/step - loss: 6.6149e-06 - accuracy: 1.5924e-04\n",
            "Epoch 72/200\n",
            "125596/125596 [==============================] - 12s 98us/step - loss: 9.3801e-06 - accuracy: 1.5924e-04\n",
            "Epoch 73/200\n",
            "125596/125596 [==============================] - 12s 98us/step - loss: 7.2871e-06 - accuracy: 1.5924e-04\n",
            "Epoch 74/200\n",
            "125596/125596 [==============================] - 12s 98us/step - loss: 9.2929e-06 - accuracy: 1.5924e-04\n",
            "Epoch 75/200\n",
            "125596/125596 [==============================] - 12s 98us/step - loss: 8.6707e-06 - accuracy: 1.5924e-04\n",
            "Epoch 76/200\n",
            "125596/125596 [==============================] - 12s 98us/step - loss: 6.3129e-06 - accuracy: 1.5924e-04\n",
            "Epoch 77/200\n",
            "125596/125596 [==============================] - 12s 98us/step - loss: 7.5936e-06 - accuracy: 1.5924e-04\n",
            "Epoch 78/200\n",
            "125596/125596 [==============================] - 12s 98us/step - loss: 8.2147e-06 - accuracy: 1.5924e-04\n",
            "Epoch 79/200\n",
            "125596/125596 [==============================] - 12s 98us/step - loss: 8.0330e-06 - accuracy: 1.5924e-04\n",
            "Epoch 80/200\n",
            "125596/125596 [==============================] - 12s 98us/step - loss: 5.8994e-06 - accuracy: 1.5924e-04\n",
            "Epoch 81/200\n",
            "125596/125596 [==============================] - 12s 98us/step - loss: 8.1965e-06 - accuracy: 1.5924e-04\n",
            "Epoch 82/200\n",
            "125596/125596 [==============================] - 12s 98us/step - loss: 1.1053e-05 - accuracy: 1.5924e-04\n",
            "Epoch 83/200\n",
            "125596/125596 [==============================] - 12s 98us/step - loss: 5.0296e-06 - accuracy: 1.5924e-04\n",
            "Epoch 84/200\n",
            "125596/125596 [==============================] - 12s 99us/step - loss: 6.6435e-06 - accuracy: 1.5924e-04\n",
            "Epoch 85/200\n",
            "125596/125596 [==============================] - 12s 99us/step - loss: 6.4924e-06 - accuracy: 1.5924e-04\n",
            "Epoch 86/200\n",
            "125596/125596 [==============================] - 12s 98us/step - loss: 7.0212e-06 - accuracy: 1.5924e-04\n",
            "Epoch 87/200\n",
            "125596/125596 [==============================] - 12s 99us/step - loss: 7.2178e-06 - accuracy: 1.5924e-04\n",
            "Epoch 88/200\n",
            "125596/125596 [==============================] - 12s 98us/step - loss: 6.6879e-06 - accuracy: 1.5924e-04\n",
            "Epoch 89/200\n",
            "125596/125596 [==============================] - 12s 99us/step - loss: 6.2347e-06 - accuracy: 1.5924e-04\n",
            "Epoch 90/200\n",
            "125596/125596 [==============================] - 13s 101us/step - loss: 6.2505e-06 - accuracy: 1.5924e-04\n",
            "Epoch 91/200\n",
            "125596/125596 [==============================] - 13s 101us/step - loss: 6.5702e-06 - accuracy: 1.5924e-04\n",
            "Epoch 92/200\n",
            "125596/125596 [==============================] - 12s 99us/step - loss: 5.8876e-06 - accuracy: 1.5924e-04\n",
            "Epoch 93/200\n",
            "125596/125596 [==============================] - 12s 98us/step - loss: 7.3671e-06 - accuracy: 1.5924e-04\n",
            "Epoch 94/200\n",
            "125596/125596 [==============================] - 12s 98us/step - loss: 4.9058e-06 - accuracy: 1.5924e-04\n",
            "Epoch 95/200\n",
            "125596/125596 [==============================] - 12s 98us/step - loss: 6.0431e-06 - accuracy: 1.5924e-04\n",
            "Epoch 96/200\n",
            "125596/125596 [==============================] - 12s 98us/step - loss: 5.3062e-06 - accuracy: 1.5924e-04\n",
            "Epoch 97/200\n",
            "125596/125596 [==============================] - 12s 98us/step - loss: 4.9892e-06 - accuracy: 1.5924e-04\n",
            "Epoch 98/200\n",
            "125596/125596 [==============================] - 12s 98us/step - loss: 6.1747e-06 - accuracy: 1.5924e-04\n",
            "Epoch 99/200\n",
            "125596/125596 [==============================] - 12s 99us/step - loss: 4.6616e-06 - accuracy: 1.5924e-04\n",
            "Epoch 100/200\n",
            "125596/125596 [==============================] - 12s 99us/step - loss: 5.5441e-06 - accuracy: 1.5924e-04\n",
            "Epoch 101/200\n",
            "125596/125596 [==============================] - 12s 99us/step - loss: 5.2771e-06 - accuracy: 1.5924e-04\n",
            "Epoch 102/200\n",
            "125596/125596 [==============================] - 12s 99us/step - loss: 5.0647e-06 - accuracy: 1.5924e-04\n",
            "Epoch 103/200\n",
            "125596/125596 [==============================] - 12s 98us/step - loss: 5.6910e-06 - accuracy: 1.5924e-04\n",
            "Epoch 104/200\n",
            "125596/125596 [==============================] - 12s 99us/step - loss: 6.5928e-06 - accuracy: 1.5924e-04\n",
            "Epoch 105/200\n",
            "125596/125596 [==============================] - 12s 98us/step - loss: 4.8763e-06 - accuracy: 1.5924e-04\n",
            "Epoch 106/200\n",
            "125596/125596 [==============================] - 12s 99us/step - loss: 5.5973e-06 - accuracy: 1.5924e-04\n",
            "Epoch 107/200\n",
            "125596/125596 [==============================] - 12s 98us/step - loss: 4.9130e-06 - accuracy: 1.5924e-04\n",
            "Epoch 108/200\n",
            "125596/125596 [==============================] - 12s 98us/step - loss: 5.9969e-06 - accuracy: 1.5924e-04\n",
            "Epoch 109/200\n",
            "125596/125596 [==============================] - 12s 98us/step - loss: 5.2893e-06 - accuracy: 1.5924e-04\n",
            "Epoch 110/200\n",
            "125596/125596 [==============================] - 12s 99us/step - loss: 4.9240e-06 - accuracy: 1.5924e-04\n",
            "Epoch 111/200\n",
            "125596/125596 [==============================] - 12s 98us/step - loss: 4.7072e-06 - accuracy: 1.5924e-04\n",
            "Epoch 112/200\n",
            "125596/125596 [==============================] - 12s 98us/step - loss: 6.2708e-06 - accuracy: 1.5924e-04\n",
            "Epoch 113/200\n",
            "125596/125596 [==============================] - 12s 98us/step - loss: 4.2219e-06 - accuracy: 1.5924e-04\n",
            "Epoch 114/200\n",
            "125596/125596 [==============================] - 12s 98us/step - loss: 4.5746e-06 - accuracy: 1.5924e-04\n",
            "Epoch 115/200\n",
            "125596/125596 [==============================] - 13s 100us/step - loss: 6.0892e-06 - accuracy: 1.5924e-04\n",
            "Epoch 116/200\n",
            "125596/125596 [==============================] - 13s 100us/step - loss: 4.1690e-06 - accuracy: 1.5924e-04\n",
            "Epoch 117/200\n",
            "125596/125596 [==============================] - 12s 98us/step - loss: 7.6261e-06 - accuracy: 1.5924e-04\n",
            "Epoch 118/200\n",
            "125596/125596 [==============================] - 12s 98us/step - loss: 3.4970e-06 - accuracy: 1.5924e-04\n",
            "Epoch 119/200\n",
            "125596/125596 [==============================] - 12s 98us/step - loss: 5.1310e-06 - accuracy: 1.5924e-04\n",
            "Epoch 120/200\n",
            "125596/125596 [==============================] - 12s 98us/step - loss: 4.6291e-06 - accuracy: 1.5924e-04\n",
            "Epoch 121/200\n",
            "125596/125596 [==============================] - 12s 98us/step - loss: 6.2186e-06 - accuracy: 1.5924e-04\n",
            "Epoch 122/200\n",
            "125596/125596 [==============================] - 12s 99us/step - loss: 3.7086e-06 - accuracy: 1.5924e-04\n",
            "Epoch 123/200\n",
            "125596/125596 [==============================] - 12s 98us/step - loss: 6.0949e-06 - accuracy: 1.5924e-04\n",
            "Epoch 124/200\n",
            "125596/125596 [==============================] - 12s 98us/step - loss: 4.1426e-06 - accuracy: 1.5924e-04\n",
            "Epoch 125/200\n",
            "125596/125596 [==============================] - 12s 98us/step - loss: 4.1607e-06 - accuracy: 1.5924e-04\n",
            "Epoch 126/200\n",
            "125596/125596 [==============================] - 12s 97us/step - loss: 5.8012e-06 - accuracy: 1.5924e-04\n",
            "Epoch 127/200\n",
            "125596/125596 [==============================] - 12s 98us/step - loss: 3.5598e-06 - accuracy: 1.5924e-04\n",
            "Epoch 128/200\n",
            "125596/125596 [==============================] - 12s 98us/step - loss: 8.3723e-06 - accuracy: 1.5924e-04\n",
            "Epoch 129/200\n",
            "125596/125596 [==============================] - 12s 98us/step - loss: 2.3094e-06 - accuracy: 1.5924e-04\n",
            "Epoch 130/200\n",
            "125596/125596 [==============================] - 12s 98us/step - loss: 5.2447e-06 - accuracy: 1.5924e-04\n",
            "Epoch 131/200\n",
            "125596/125596 [==============================] - 12s 97us/step - loss: 3.5006e-06 - accuracy: 1.5924e-04\n",
            "Epoch 132/200\n",
            "125596/125596 [==============================] - 12s 98us/step - loss: 3.9341e-06 - accuracy: 1.5924e-04\n",
            "Epoch 133/200\n",
            "125596/125596 [==============================] - 12s 99us/step - loss: 4.1791e-06 - accuracy: 1.5924e-04\n",
            "Epoch 134/200\n",
            "125596/125596 [==============================] - 12s 98us/step - loss: 4.7793e-06 - accuracy: 1.5924e-04\n",
            "Epoch 135/200\n",
            "125596/125596 [==============================] - 12s 99us/step - loss: 3.2869e-06 - accuracy: 1.5924e-04\n",
            "Epoch 136/200\n",
            "125596/125596 [==============================] - 12s 97us/step - loss: 4.7086e-06 - accuracy: 1.5924e-04\n",
            "Epoch 137/200\n",
            "125596/125596 [==============================] - 12s 97us/step - loss: 3.6206e-06 - accuracy: 1.5924e-04\n",
            "Epoch 138/200\n",
            "125596/125596 [==============================] - 12s 97us/step - loss: 3.6231e-06 - accuracy: 1.5924e-04\n",
            "Epoch 139/200\n",
            "125596/125596 [==============================] - 12s 98us/step - loss: 4.2175e-06 - accuracy: 1.5924e-04\n",
            "Epoch 140/200\n",
            "125596/125596 [==============================] - 12s 98us/step - loss: 5.7596e-06 - accuracy: 1.5924e-04\n",
            "Epoch 141/200\n",
            "125596/125596 [==============================] - 13s 100us/step - loss: 3.7772e-06 - accuracy: 1.5924e-04\n",
            "Epoch 142/200\n",
            "125596/125596 [==============================] - 12s 98us/step - loss: 4.5897e-06 - accuracy: 1.5924e-04\n",
            "Epoch 143/200\n",
            "125596/125596 [==============================] - 12s 98us/step - loss: 3.1898e-06 - accuracy: 1.5924e-04\n",
            "Epoch 144/200\n",
            "125596/125596 [==============================] - 12s 98us/step - loss: 4.1749e-06 - accuracy: 1.5924e-04\n",
            "Epoch 145/200\n",
            "125596/125596 [==============================] - 12s 97us/step - loss: 3.8081e-06 - accuracy: 1.5924e-04\n",
            "Epoch 146/200\n",
            "125596/125596 [==============================] - 12s 98us/step - loss: 4.0853e-06 - accuracy: 1.5924e-04\n",
            "Epoch 147/200\n",
            "125596/125596 [==============================] - 12s 98us/step - loss: 3.1687e-06 - accuracy: 1.5924e-04\n",
            "Epoch 148/200\n",
            " 16288/125596 [==>...........................] - ETA: 10s - loss: 7.4571e-06 - accuracy: 6.1395e-05"
          ],
          "name": "stdout"
        }
      ]
    },
    {
      "cell_type": "code",
      "metadata": {
        "id": "Bd9koMNW9GCH",
        "colab_type": "code",
        "colab": {}
      },
      "source": [
        "### Predicting Output\n",
        "\n",
        "def predict_case_one(x_predict):\n",
        "  \n",
        "  x_ip = np.array([(x_predict-0.0004),(x_predict-0.0003),(x_predict-0.0002),(x_predict-0.0001)])\n",
        "  x_ip = x_ip.reshape((1,4,n_features))\n",
        "  y_op = model.predict(x_ip)\n",
        "\n",
        "  error = np.linalg.norm(y_op,math.sin(x_predict))\n",
        "\n",
        "  return(y_op,error)"
      ],
      "execution_count": 0,
      "outputs": []
    },
    {
      "cell_type": "code",
      "metadata": {
        "id": "fgKFHf71FIjc",
        "colab_type": "code",
        "colab": {}
      },
      "source": [
        "### Predicting for x_predict = 0\n",
        "\n",
        "print(predict_case_one(0))"
      ],
      "execution_count": 0,
      "outputs": []
    },
    {
      "cell_type": "markdown",
      "metadata": {
        "id": "_-zN3HjBEUfU",
        "colab_type": "text"
      },
      "source": [
        "**Predicting X directly for given X**"
      ]
    },
    {
      "cell_type": "code",
      "metadata": {
        "id": "Yxv5n0uTEfxU",
        "colab_type": "code",
        "colab": {}
      },
      "source": [
        "### Generation of Data Set\n",
        "\n",
        "def Generate_Dataset_case_two(x_raw,y_raw):\n",
        "  \n",
        "  input_space = x_raw.shape[0]\n",
        "  \n",
        "  X = np.zeros((input_space-4,4))\n",
        "  Y = []\n",
        "  \n",
        "  for i in range(input_space-4):\n",
        "\n",
        "       for j in range(4):\n",
        "         X[i,j] = (x_raw[i+j])\n",
        "       Y.append(y_raw[i+3])\n",
        "  \n",
        "  Y = np.array(Y)\n",
        "  return(X,Y)\n",
        "\n",
        "# Generating the Dataset\n",
        "\n",
        "X,Y = Generate_Dataset_case_two(x_raw,y_raw)\n",
        "print(X,Y)"
      ],
      "execution_count": 0,
      "outputs": []
    },
    {
      "cell_type": "code",
      "metadata": {
        "id": "D918DyneExQO",
        "colab_type": "code",
        "colab": {}
      },
      "source": [
        "### Developing the Model\n",
        "\n",
        "model = Sequential()\n",
        "model.add(LSTM(50,input_shape=(X.shape[1],n_features)))\n",
        "model.add(Dense(1))\n",
        "model.compile(optimizer='adam',loss='mse',metrics=['accuracy'])"
      ],
      "execution_count": 0,
      "outputs": []
    },
    {
      "cell_type": "code",
      "metadata": {
        "id": "HzbaVTaNEyV4",
        "colab_type": "code",
        "colab": {}
      },
      "source": [
        "### Fitting Model\n",
        "\n",
        "model.fit(X,Y,epochs=200)"
      ],
      "execution_count": 0,
      "outputs": []
    },
    {
      "cell_type": "code",
      "metadata": {
        "id": "eGCpqnE_E56k",
        "colab_type": "code",
        "colab": {}
      },
      "source": [
        "### Predicting Output\n",
        "\n",
        "def predict(x_predict):\n",
        "  \n",
        "  x_ip = np.array([(x_predict-0.0003),(x_predict-0.0002),(x_predict-0.0001),(x_predict)])\n",
        "  x_ip = x_ip.reshape((1,4,n_features))\n",
        "  y_op = model.predict(x_ip)\n",
        "\n",
        "  error = np.linalg.norm(y_op,math.sin(x_predict))\n",
        "\n",
        "  return(y_op,error)"
      ],
      "execution_count": 0,
      "outputs": []
    },
    {
      "cell_type": "code",
      "metadata": {
        "id": "9gQeIsqeFaWU",
        "colab_type": "code",
        "colab": {}
      },
      "source": [
        "### Predicting for x_predict = 0\n",
        "\n",
        "print(predict_case_two(0))"
      ],
      "execution_count": 0,
      "outputs": []
    }
  ]
}